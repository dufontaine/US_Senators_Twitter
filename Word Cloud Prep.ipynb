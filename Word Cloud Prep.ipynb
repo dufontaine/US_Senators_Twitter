{
 "cells": [
  {
   "cell_type": "markdown",
   "metadata": {},
   "source": [
    "### Load packages"
   ]
  },
  {
   "cell_type": "code",
   "execution_count": 36,
   "metadata": {
    "collapsed": true
   },
   "outputs": [],
   "source": [
    "import pandas as pd\n",
    "import re\n",
    "import nltk\n",
    "import string\n",
    "\n",
    "stopwords = nltk.corpus.stopwords.words(\"english\") \n",
    "exclude = set(string.punctuation)"
   ]
  },
  {
   "cell_type": "markdown",
   "metadata": {},
   "source": [
    "### Functions to read data and split tweets into words"
   ]
  },
  {
   "cell_type": "code",
   "execution_count": 37,
   "metadata": {
    "collapsed": true
   },
   "outputs": [],
   "source": [
    "def ReadData():\n",
    "    address = 'C:/Users/dfontaine/OneDrive - Gogo LLC/TwitterProject/all_tweets.csv'\n",
    "    df = pd.read_csv(address, sep='`',encoding = \"utf-8\")\n",
    "    return(df)"
   ]
  },
  {
   "cell_type": "code",
   "execution_count": 38,
   "metadata": {
    "collapsed": true
   },
   "outputs": [],
   "source": [
    "def SplitTweet(aTweet):\n",
    "    #convert to lowercase\n",
    "    aTweet = aTweet.lower()\n",
    "    #remove urls\n",
    "    aTweet = re.sub('(http|ftp|https)://([\\w_-]+(?:(?:\\.[\\w_-]+)+))([\\w.,@?^=%&:/~+#-]*[\\w@?^=%&/~+#-])?','',aTweet)\n",
    "    #remove any other word that starts with http\n",
    "    aTweet = re.sub('http\\S*(\\s|$)','',aTweet)\n",
    "    #remove punctuation\n",
    "    aTweet = ''.join(ch for ch in aTweet if ch not in exclude)\n",
    "    #split into list of words\n",
    "    words = aTweet.split()\n",
    "    #remove stopwords\n",
    "    words = [i for i in words if i not in stopwords]\n",
    "    #remove short words\n",
    "    words = [i for i in words if len(i) > 2]\n",
    "    return(words)"
   ]
  },
  {
   "cell_type": "markdown",
   "metadata": {},
   "source": [
    "### MAIN"
   ]
  },
  {
   "cell_type": "code",
   "execution_count": 39,
   "metadata": {
    "collapsed": false
   },
   "outputs": [
    {
     "name": "stdout",
     "output_type": "stream",
     "text": [
      "Creating word list\n",
      "Converting to pandas...\n",
      "Exporting to csv...\n",
      "Done\n"
     ]
    }
   ],
   "source": [
    "df = ReadData()\n",
    "tweets = df['full_text']\n",
    "handles = df['handle']\n",
    "\n",
    "xHandles = []\n",
    "xWords = []\n",
    "\n",
    "print(\"Creating word list\")\n",
    "#loop through each tweet and add words to dataframe\n",
    "i = 0\n",
    "for t in tweets:\n",
    "    words = SplitTweet(t)\n",
    "    for w in words:\n",
    "        #all_words.loc[len(all_words)] = [handles[i],w]\n",
    "        xHandles.append(handles[i])\n",
    "        xWords.append(w)\n",
    "    i += 1\n",
    "print(\"Converting to pandas...\")\n",
    "wordDF = pd.DataFrame([xHandles,xWords])\n",
    "wordDF = wordDF.transpose()\n",
    "wordDF.columns = ['Handle','Word']\n",
    "print(\"Exporting to csv...\")\n",
    "wordDF.to_csv('TweetWords.csv',sep='`',encoding='utf-8', index=False)\n",
    "print(\"Done\")\n"
   ]
  }
 ],
 "metadata": {
  "anaconda-cloud": {},
  "kernelspec": {
   "display_name": "Python [conda root]",
   "language": "python",
   "name": "conda-root-py"
  },
  "language_info": {
   "codemirror_mode": {
    "name": "ipython",
    "version": 3
   },
   "file_extension": ".py",
   "mimetype": "text/x-python",
   "name": "python",
   "nbconvert_exporter": "python",
   "pygments_lexer": "ipython3",
   "version": "3.5.2"
  }
 },
 "nbformat": 4,
 "nbformat_minor": 1
}
