{
 "cells": [
  {
   "cell_type": "markdown",
   "metadata": {},
   "source": [
    "### Load Packages and Initialize Parameters"
   ]
  },
  {
   "cell_type": "code",
   "execution_count": 361,
   "metadata": {
    "collapsed": true
   },
   "outputs": [],
   "source": [
    "from twython import Twython\n",
    "from datetime import datetime\n",
    "import pandas as pd\n",
    "import numpy as np\n",
    "import re\n",
    "\n",
    "CONSUMER_KEY = 'EH7arVyHGMo5beYuTkiUn3NUi'\n",
    "CONSUMER_SECRET = 'yyjmdnexkfGr4L1assPcc7wlRYHAyqcpInIJA6ZgzbhPJljII0'\n",
    "ACCESS_TOKEN = '777951321953406976-pbkpTeQ6wfNi7ChSqBwDIqnDRmfDChd'\n",
    "ACCESS_SECRET = 'hqhUvRnfdsmb3kHQRiBP3kG24XqnFUDp5tTVHEfSYYSlz'\n",
    "\n",
    "senators = ['SenShelby', 'SenatorStrange', 'lisamurkowski', 'SenDanSullivan', 'SenJohnMcCain', 'JeffFlake',\n",
    "            'JohnBoozman', 'SenTomCotton', 'SenFeinstein', 'KamalaHarris', 'SenBennetCO', 'SenCoryGardner',\n",
    "            'SenBlumenthal', 'ChrisMurphyCT', 'SenatorCarper', 'ChrisCoons', 'SenBillNelson', 'marcorubio',\n",
    "            'SenatorIsakson', 'sendavidperdue', 'brianschatz', 'maziehirono', 'MikeCrapo', 'SenatorRisch',\n",
    "            'SenatorDurbin', 'SenDuckworth', 'SenDonnelly', 'SenToddYoung', 'ChuckGrassley', 'SenJoniErnst',\n",
    "            'SenPatRoberts', 'JerryMoran', 'SenateMajLdr', 'RandPaul', 'BillCassidy', 'SenJohnKennedy',\n",
    "            'SenatorCollins', 'SenAngusKing', 'SenatorCardin', 'ChrisVanHollen', 'SenWarren', 'senmarkey',\n",
    "            'SenStabenow', 'SenGaryPeters', 'amyklobuchar', 'SenFranken', 'SenThadCochran', 'SenatorWicker',\n",
    "            'clairecmc', 'RoyBlunt', 'SenatorTester', 'SteveDaines', 'SenatorFischer', 'SenSasse', 'SenDeanHeller',\n",
    "            'SenCortezMasto', 'SenatorShaheen', 'SenatorHassan', 'SenatorMenendez', 'CoryBooker', 'SenatorTomUdall',\n",
    "            'MartinHeinrich', 'SenSchumer', 'SenGillibrand', 'SenatorBurr', 'SenThomTillis', 'SenJohnHoeven',\n",
    "            'SenatorHeitkamp', 'SenSherrodBrown', 'SenRobPortman', 'JimInhofe', 'SenatorLankford', 'RonWyden',\n",
    "            'SenJeffMerkley', 'SenBobCasey', 'SenToomey', 'SenJackReed', 'SenWhitehouse', 'LindseyGrahamSC',\n",
    "            'SenatorTimScott', 'SenJohnThune', 'SenatorRounds', 'SenAlexander', 'SenBobCorker', 'JohnCornyn',\n",
    "            'SenTedCruz', 'SenOrrinHatch', 'SenMikeLee', 'SenatorLeahy', 'SenSanders', 'MarkWarner', 'timkaine',\n",
    "            'PattyMurray', 'SenatorCantwell', 'Sen_JoeManchin', 'SenCapito', 'SenRonJohnson', 'SenatorBaldwin',\n",
    "            'SenatorEnzi', 'SenJohnBarrasso']\n",
    "\n",
    "parties = ['Republican', 'Republican', 'Republican', 'Republican', 'Republican', 'Republican', 'Republican',\n",
    "         'Republican', 'Democratic', 'Democratic', 'Democratic', 'Republican', 'Democratic', 'Democratic', \n",
    "         'Democratic', 'Democratic', 'Democratic', 'Republican', 'Republican', 'Republican', 'Democratic',\n",
    "         'Democratic', 'Republican', 'Republican', 'Democratic', 'Democratic', 'Democratic', 'Republican',\n",
    "         'Republican', 'Republican', 'Republican', 'Republican', 'Republican', 'Republican', 'Republican',\n",
    "         'Republican', 'Republican', 'Independent', 'Democratic', 'Democratic', 'Democratic', 'Democratic',\n",
    "         'Democratic', 'Democratic', 'Democratic', 'Democratic', 'Republican', 'Republican', 'Democratic',\n",
    "         'Republican', 'Democratic', 'Republican', 'Republican', 'Republican', 'Republican', 'Democratic',\n",
    "         'Democratic', 'Democratic', 'Democratic', 'Democratic', 'Democratic', 'Democratic', 'Democratic', \n",
    "         'Democratic', 'Republican', 'Republican', 'Republican', 'Democratic', 'Democratic', 'Republican',\n",
    "         'Republican', 'Republican', 'Democratic', 'Democratic', 'Democratic', 'Republican', 'Democratic',\n",
    "         'Democratic', 'Republican', 'Republican', 'Republican', 'Republican', 'Republican', 'Republican',\n",
    "         'Republican','Republican', 'Republican', 'Republican', 'Democratic', 'Democratic', 'Democratic',\n",
    "         'Democratic', 'Democratic', 'Democratic', 'Democratic', 'Republican', 'Republican', 'Democratic',\n",
    "         'Republican', 'Republican']"
   ]
  },
  {
   "cell_type": "markdown",
   "metadata": {},
   "source": [
    "### function to get tweets for a user since election day 2016"
   ]
  },
  {
   "cell_type": "code",
   "execution_count": 366,
   "metadata": {
    "collapsed": false
   },
   "outputs": [],
   "source": [
    "def get_tweets(twitter_handle):\n",
    "    my_tweets = pd.DataFrame(columns=('handle','retweeted', 'favorite_count', 'retweet_count','full_text','date','time'))\n",
    "    twitter = Twython(CONSUMER_KEY,CONSUMER_SECRET,ACCESS_TOKEN,ACCESS_SECRET)\n",
    "\n",
    "    lis = [999999999999999999] # tweet id of most recent tweet (initialized as high number)\n",
    "    done = False # True when all tweets have been gathered\n",
    "    for i in range(0, 16): # loop through user tweets (3200 is max you can get with API, 200 at a time)\n",
    "        user_timeline = twitter.get_user_timeline(screen_name=twitter_handle, count=200, tweet_mode='extended', max_id=lis[-1])\n",
    "        for tweet in user_timeline:\n",
    "            #get date and time of tweet\n",
    "            parsedDate = datetime.strptime(tweet['created_at'], '%a %b %d %X %z %Y').date()\n",
    "            parsedTime = datetime.strptime(tweet['created_at'], '%a %b %d %X %z %Y').time()\n",
    "            if parsedDate < datetime.strptime('2016 09 11', '%Y %d %m').date():\n",
    "                done = True\n",
    "                break\n",
    "            if parsedDate > datetime.strptime('2017 23 03', '%Y %d %m').date(): \n",
    "                continue\n",
    "            #fix ambersand and new lines in tweet text\n",
    "            a_tweet = tweet['full_text']\n",
    "            a_tweet = re.sub('&amp;','&',a_tweet)\n",
    "            a_tweet = re.sub(r'\\r','',a_tweet)\n",
    "            #add tweet to dataframe \n",
    "            my_tweets.loc[len(my_tweets)] = [twitter_handle,'retweeted_status' in tweet,tweet['favorite_count'],tweet['retweet_count'],a_tweet,parsedDate,parsedTime]\n",
    "            lis.append(tweet['id']) ## append tweet id's\n",
    "        if done==True:\n",
    "            break\n",
    "    return my_tweets"
   ]
  },
  {
   "cell_type": "markdown",
   "metadata": {},
   "source": [
    "### gather tweets for all 100 senators"
   ]
  },
  {
   "cell_type": "code",
   "execution_count": 367,
   "metadata": {
    "collapsed": false,
    "scrolled": false
   },
   "outputs": [
    {
     "name": "stdout",
     "output_type": "stream",
     "text": [
      "starting scraping\n",
      "10 out of 100 senators done\n",
      "20 out of 100 senators done\n",
      "30 out of 100 senators done\n",
      "40 out of 100 senators done\n",
      "50 out of 100 senators done\n",
      "60 out of 100 senators done\n",
      "70 out of 100 senators done\n",
      "80 out of 100 senators done\n",
      "90 out of 100 senators done\n",
      "100 out of 100 senators done\n",
      "done scraping\n"
     ]
    }
   ],
   "source": [
    "all_tweets = pd.DataFrame(columns=('handle', 'retweeted', 'favorite_count', 'retweet_count','full_text','date','time','Party'))\n",
    "\n",
    "print('starting scraping')\n",
    "s = 0\n",
    "for sen in senators:\n",
    "    my_t = get_tweets(sen) #get tweets\n",
    "    my_t['Party'] = np.repeat(parties[s],len(my_t)) #add party\n",
    "    all_tweets = all_tweets.append(my_t) #add to master dataframe\n",
    "    s += 1\n",
    "    if s % 10 == 0: print(str(s) + ' out of 100 senators done')\n",
    "print('done scraping')\n"
   ]
  },
  {
   "cell_type": "markdown",
   "metadata": {},
   "source": [
    "### write results to csv file"
   ]
  },
  {
   "cell_type": "code",
   "execution_count": 369,
   "metadata": {
    "collapsed": false
   },
   "outputs": [],
   "source": [
    "all_tweets.to_csv('all_tweets.csv',sep='`',encoding='utf-8')"
   ]
  }
 ],
 "metadata": {
  "anaconda-cloud": {},
  "kernelspec": {
   "display_name": "Python [conda root]",
   "language": "python",
   "name": "conda-root-py"
  },
  "language_info": {
   "codemirror_mode": {
    "name": "ipython",
    "version": 3
   },
   "file_extension": ".py",
   "mimetype": "text/x-python",
   "name": "python",
   "nbconvert_exporter": "python",
   "pygments_lexer": "ipython3",
   "version": "3.5.2"
  }
 },
 "nbformat": 4,
 "nbformat_minor": 1
}
