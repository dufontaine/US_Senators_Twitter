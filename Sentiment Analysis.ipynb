{
 "cells": [
  {
   "cell_type": "markdown",
   "metadata": {},
   "source": [
    "### Load packages"
   ]
  },
  {
   "cell_type": "code",
   "execution_count": 120,
   "metadata": {
    "collapsed": true
   },
   "outputs": [],
   "source": [
    "from textblob import TextBlob\n",
    "import re\n",
    "import pandas as pd"
   ]
  },
  {
   "cell_type": "markdown",
   "metadata": {},
   "source": [
    "### Read tweets and get Sentiment"
   ]
  },
  {
   "cell_type": "code",
   "execution_count": 121,
   "metadata": {
    "collapsed": false,
    "scrolled": true
   },
   "outputs": [
    {
     "name": "stdout",
     "output_type": "stream",
     "text": [
      "starting sentiment analysis\n",
      "done with sentiment analysis\n",
      "done writing to csv\n"
     ]
    }
   ],
   "source": [
    "def ReadData():\n",
    "    address = 'C:/Users/dfontaine/OneDrive - Gogo LLC/TwitterProject/all_tweets.csv'\n",
    "    df = pd.read_csv(address, sep='`',encoding = \"utf-8\")\n",
    "    return(df)\n",
    "\n",
    "def GetSent(myTweets):\n",
    "    myPolarity = []\n",
    "    mySubjectivity = []\n",
    "    myPolarity = [TextBlob(twet).sentiment.polarity for twet in myTweets]\n",
    "    mySubjectivity = [TextBlob(twet).sentiment.subjectivity for twet in myTweets]\n",
    "    return(myPolarity, mySubjectivity)\n",
    "    \n",
    "#Read Data\n",
    "df = ReadData()\n",
    "\n",
    "#get sentiment\n",
    "print('starting sentiment analysis')\n",
    "myP, myS = GetSent(df['full_text'].tolist())\n",
    "df['Polarity'] = myP\n",
    "df['Subjectivity'] = myS\n",
    "print('done with sentiment analysis')\n",
    "\n",
    "#write to csv\n",
    "df.to_csv('all_tweets.csv',sep='`',encoding='utf-8')\n",
    "print('done writing to csv')"
   ]
  }
 ],
 "metadata": {
  "anaconda-cloud": {},
  "kernelspec": {
   "display_name": "Python [conda root]",
   "language": "python",
   "name": "conda-root-py"
  },
  "language_info": {
   "codemirror_mode": {
    "name": "ipython",
    "version": 3
   },
   "file_extension": ".py",
   "mimetype": "text/x-python",
   "name": "python",
   "nbconvert_exporter": "python",
   "pygments_lexer": "ipython3",
   "version": "3.5.2"
  }
 },
 "nbformat": 4,
 "nbformat_minor": 1
}
